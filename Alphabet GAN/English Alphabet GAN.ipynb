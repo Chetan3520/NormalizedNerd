{
 "cells": [
  {
   "cell_type": "markdown",
   "metadata": {},
   "source": [
    "## *Import tools*"
   ]
  },
  {
   "cell_type": "code",
   "execution_count": null,
   "metadata": {
    "_cell_guid": "b1076dfc-b9ad-4769-8c92-a6c4dae69d19",
    "_uuid": "8f2839f25d086af736a60e9eeb907d3b93b6e0e5"
   },
   "outputs": [],
   "source": [
    "import numpy as np\n",
    "import pandas as pd\n",
    "import matplotlib.pyplot as plt\n",
    "import os\n",
    "from keras.layers import (Dropout, Input, Dense, Conv2D, MaxPooling2D, \n",
    "                          GlobalAveragePooling2D, UpSampling2D, Conv2DTranspose, \n",
    "                          Reshape, Flatten, Activation, BatchNormalization)\n",
    "from keras.models import Model, Sequential\n",
    "from keras.preprocessing import image\n",
    "from keras.layers.advanced_activations import LeakyReLU\n",
    "from keras.initializers import RandomNormal\n",
    "from keras.optimizers import Adam"
   ]
  },
  {
   "cell_type": "markdown",
   "metadata": {},
   "source": [
    "## *Get the data*"
   ]
  },
  {
   "cell_type": "code",
   "execution_count": null,
   "metadata": {},
   "outputs": [],
   "source": [
    "data = pd.read_csv(\"path-to-dataset\").astype('float32')\n",
    "data.head()"
   ]
  },
  {
   "cell_type": "markdown",
   "metadata": {},
   "source": [
    "## *Data preprocessing*"
   ]
  },
  {
   "cell_type": "code",
   "execution_count": null,
   "metadata": {},
   "outputs": [],
   "source": [
    "width, height, channel = 28, 28, 1 # 28*28  grayscale images"
   ]
  },
  {
   "cell_type": "code",
   "execution_count": null,
   "metadata": {},
   "outputs": [],
   "source": [
    "X = data.iloc[:,1:].values\n",
    "X = X.reshape((len(X), width, height))\n",
    "np.random.shuffle(X)\n",
    "X.shape"
   ]
  },
  {
   "cell_type": "markdown",
   "metadata": {},
   "source": [
    "## *Normalize the data*"
   ]
  },
  {
   "cell_type": "code",
   "execution_count": null,
   "metadata": {},
   "outputs": [],
   "source": [
    "X = (X - 127.5) / 127.5 # between [-1, 1]"
   ]
  },
  {
   "cell_type": "markdown",
   "metadata": {},
   "source": [
    "## *Visualize some alphabets*"
   ]
  },
  {
   "cell_type": "code",
   "execution_count": null,
   "metadata": {},
   "outputs": [],
   "source": [
    "def show_data(X, title=\"\"):\n",
    "    plt.figure(figsize=(11,11))\n",
    "    \n",
    "    i = 1\n",
    "    for img in X:\n",
    "        plt.subplot(10, 10, i)\n",
    "        plt.imshow(img.reshape((height, width)), cmap='gray')\n",
    "        plt.axis('off')\n",
    "        i+=1\n",
    "        if i>100: break\n",
    "    \n",
    "    plt.suptitle(title, fontsize = 25)\n",
    "    plt.show()\n",
    "    \n",
    "show_data(X, title=\"Original Alphabets\")"
   ]
  },
  {
   "cell_type": "markdown",
   "metadata": {},
   "source": [
    "## *Customize the Adam optimizer*"
   ]
  },
  {
   "cell_type": "code",
   "execution_count": null,
   "metadata": {},
   "outputs": [],
   "source": [
    "mod_adam = Adam(0.0002, 0.5)"
   ]
  },
  {
   "cell_type": "markdown",
   "metadata": {},
   "source": [
    "## *Set parameters for noise*"
   ]
  },
  {
   "cell_type": "code",
   "execution_count": null,
   "metadata": {},
   "outputs": [],
   "source": [
    "noise_dim = 100 # most research papers suggest 100!\n",
    "fixed_noise = np.random.normal(0, 1, size=(100, noise_dim)) # use this for visualizing model outputs"
   ]
  },
  {
   "cell_type": "markdown",
   "metadata": {},
   "source": [
    "## *Build the Generator*"
   ]
  },
  {
   "cell_type": "code",
   "execution_count": null,
   "metadata": {},
   "outputs": [],
   "source": [
    "def buildGenerator():\n",
    "    model = Sequential()\n",
    "\n",
    "    model.add(Dense(1024, input_dim=noise_dim))\n",
    "    model.add(BatchNormalization(momentum=0.8))\n",
    "    model.add(Activation(\"relu\"))\n",
    "    \n",
    "    model.add(Dense(6272, input_dim=noise_dim))\n",
    "    model.add(BatchNormalization(momentum=0.8))\n",
    "    model.add(Activation(\"relu\"))\n",
    "    \n",
    "    model.add(Reshape((7, 7, 128)))\n",
    "    \n",
    "    model.add(UpSampling2D((2, 2)))\n",
    "    model.add(Conv2D(64, (2, 2), padding='same', \n",
    "                     kernel_initializer=RandomNormal(0, 0.02)))\n",
    "    model.add(BatchNormalization(momentum=0.8))\n",
    "    model.add(LeakyReLU(0.2))\n",
    "    \n",
    "    model.add(UpSampling2D((2, 2)))\n",
    "    model.add(Conv2D(channel, (3, 3), padding='same', activation = \"tanh\", \n",
    "                     kernel_initializer=RandomNormal(0, 0.02)))\n",
    "    \n",
    "    return model\n",
    "    "
   ]
  },
  {
   "cell_type": "code",
   "execution_count": null,
   "metadata": {},
   "outputs": [],
   "source": [
    "generator = buildGenerator()\n",
    "generator.summary()"
   ]
  },
  {
   "cell_type": "markdown",
   "metadata": {},
   "source": [
    "## *Build the Discriminator*"
   ]
  },
  {
   "cell_type": "code",
   "execution_count": null,
   "metadata": {},
   "outputs": [],
   "source": [
    "def buildDiscriminator():\n",
    "    model = Sequential()\n",
    "    \n",
    "    model.add(Conv2D(64, (5, 5), strides=2, padding='same', \n",
    "                     kernel_initializer=RandomNormal(0, 0.02), \n",
    "                     input_shape=(width, height, channel)))\n",
    "    model.add(LeakyReLU(0.2))\n",
    "    \n",
    "    model.add(Conv2D(128, (5, 5), strides=2, \n",
    "                     kernel_initializer=RandomNormal(0, 0.02)))\n",
    "    model.add(LeakyReLU(0.2))\n",
    "    \n",
    "    model.add(Flatten())\n",
    "    \n",
    "    model.add(Dense(256))\n",
    "    model.add(LeakyReLU(0.2))\n",
    "    \n",
    "    model.add(Dropout(0.5))\n",
    "    model.add(Dense(1, activation='sigmoid'))\n",
    "    \n",
    "    model.compile(loss='binary_crossentropy', optimizer=mod_adam)\n",
    "    return model"
   ]
  },
  {
   "cell_type": "code",
   "execution_count": null,
   "metadata": {},
   "outputs": [],
   "source": [
    "discriminator = buildDiscriminator()\n",
    "discriminator.summary()"
   ]
  },
  {
   "cell_type": "markdown",
   "metadata": {},
   "source": [
    "## *Combine Generator & Discriminator*"
   ]
  },
  {
   "cell_type": "code",
   "execution_count": null,
   "metadata": {},
   "outputs": [],
   "source": [
    "noise = Input(shape=(noise_dim,))\n",
    "fake_data = generator(noise)\n",
    "discriminator.trainable = False\n",
    "output = discriminator(fake_data)\n",
    "gan = Model(noise, output)\n",
    "gan.compile(loss='binary_crossentropy', optimizer=mod_adam)"
   ]
  },
  {
   "cell_type": "markdown",
   "metadata": {},
   "source": [
    "## *For Visualizing model outputs*"
   ]
  },
  {
   "cell_type": "code",
   "execution_count": null,
   "metadata": {},
   "outputs": [],
   "source": [
    "def show_generated_alphabets(title):\n",
    "    imgs = generator.predict(fixed_noise)\n",
    "    imgs = 0.5 * imgs + 0.5\n",
    "    plt.figure(figsize=(11,11))\n",
    "    \n",
    "    i = 1\n",
    "    for img in imgs:\n",
    "        plt.subplot(10, 10, i)\n",
    "        plt.imshow(img.reshape((height,width)), cmap='gray')\n",
    "        plt.axis('off')\n",
    "        i+=1\n",
    "    plt.suptitle(title, fontsize = 25)\n",
    "    plt.show()"
   ]
  },
  {
   "cell_type": "markdown",
   "metadata": {},
   "source": [
    "## *Train the GAN*"
   ]
  },
  {
   "cell_type": "code",
   "execution_count": null,
   "metadata": {},
   "outputs": [],
   "source": [
    "epochs = 101\n",
    "batch_size = 128\n",
    "steps_per_epoch = len(X)//batch_size"
   ]
  },
  {
   "cell_type": "code",
   "execution_count": null,
   "metadata": {},
   "outputs": [],
   "source": [
    "for epoch in range(epochs):\n",
    "    for batch in range(steps_per_epoch):\n",
    "        input_gen = np.random.normal(0, 1, size=(batch_size, noise_dim))\n",
    "        fake_data = generator.predict(input_gen)\n",
    "        \n",
    "        real_data = X[np.random.randint(0, X.shape[0], size=batch_size)]\n",
    "        real_data = real_data.reshape((batch_size, width, height, channel))\n",
    "        \n",
    "        input_disc = np.concatenate((real_data, fake_data))\n",
    "\n",
    "        label_disc = np.zeros(2*batch_size)\n",
    "        label_disc[:batch_size] = 0.9\n",
    "        loss_disc = discriminator.train_on_batch(input_disc, label_disc)\n",
    "\n",
    "        label_gen = np.ones(batch_size)\n",
    "        loss_gen = gan.train_on_batch(input_gen, label_gen)\n",
    "\n",
    "    print(\"epoch: \", epoch)\n",
    "    print(\"-\"*80)\n",
    "    print(\"discriminator loss: \", loss_disc)\n",
    "    print(\"generator loss: \", loss_gen)\n",
    "    \n",
    "    if epoch % 5 == 0:\n",
    "        show_generated_alphabets(\"Generated Alphabets\")"
   ]
  }
 ],
 "metadata": {
  "kernelspec": {
   "display_name": "Python 3",
   "language": "python",
   "name": "python3"
  },
  "language_info": {
   "codemirror_mode": {
    "name": "ipython",
    "version": 3
   },
   "file_extension": ".py",
   "mimetype": "text/x-python",
   "name": "python",
   "nbconvert_exporter": "python",
   "pygments_lexer": "ipython3",
   "version": "3.7.6"
  }
 },
 "nbformat": 4,
 "nbformat_minor": 4
}
