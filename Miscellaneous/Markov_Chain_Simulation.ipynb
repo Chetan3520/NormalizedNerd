{
 "metadata": {
  "language_info": {
   "codemirror_mode": {
    "name": "ipython",
    "version": 3
   },
   "file_extension": ".py",
   "mimetype": "text/x-python",
   "name": "python",
   "nbconvert_exporter": "python",
   "pygments_lexer": "ipython3",
   "version": "3.8.5"
  },
  "orig_nbformat": 2,
  "kernelspec": {
   "name": "python3",
   "display_name": "Python 3.8.5 64-bit ('base': conda)",
   "metadata": {
    "interpreter": {
     "hash": "2c81527b5a4384cf19648bf8d6f513a12814ed111bcfa0a54163f8e293289c46"
    }
   }
  }
 },
 "nbformat": 4,
 "nbformat_minor": 2,
 "cells": [
  {
   "cell_type": "code",
   "execution_count": 1,
   "metadata": {},
   "outputs": [],
   "source": [
    "import numpy as np"
   ]
  },
  {
   "source": [
    "<h1 style=\"color:gold\"> A delicious Markov Chain </h1>\n",
    "\n",
    "<img src=\"0.png\" width=\"570\" height=\"400\">"
   ],
   "cell_type": "markdown",
   "metadata": {}
  },
  {
   "source": [
    "## Burger : 0, Pizza : 1, Hotdog : 2"
   ],
   "cell_type": "markdown",
   "metadata": {}
  },
  {
   "cell_type": "code",
   "execution_count": 2,
   "metadata": {},
   "outputs": [
    {
     "output_type": "execute_result",
     "data": {
      "text/plain": [
       "{0: 'Burger', 1: 'Pizza', 2: 'Hotdog'}"
      ]
     },
     "metadata": {},
     "execution_count": 2
    }
   ],
   "source": [
    "state = {\n",
    "    0 : \"Burger\",\n",
    "    1 : \"Pizza\",\n",
    "    2 : \"Hotdog\"\n",
    "}\n",
    "state"
   ]
  },
  {
   "source": [
    "<h1 style=\"color:gold\">Transition Matrix</h1>\n",
    "<img src=\"mat2.png\" width=\"240\" height=\"120\">\n",
    "\n",
    "## A_ij = P(X_n = j | X_n-1 = i)"
   ],
   "cell_type": "markdown",
   "metadata": {}
  },
  {
   "cell_type": "code",
   "execution_count": 3,
   "metadata": {},
   "outputs": [
    {
     "output_type": "execute_result",
     "data": {
      "text/plain": [
       "array([[0.2, 0.6, 0.2],\n",
       "       [0.3, 0. , 0.7],\n",
       "       [0.5, 0. , 0.5]])"
      ]
     },
     "metadata": {},
     "execution_count": 3
    }
   ],
   "source": [
    "A = np.array([[0.2, 0.6, 0.2], [0.3, 0.0, 0.7], [0.5, 0.0, 0.5]])\n",
    "A"
   ]
  },
  {
   "source": [
    "<h1 style=\"color:gold\"> Random Walk on Markov Chain</h1>"
   ],
   "cell_type": "markdown",
   "metadata": {}
  },
  {
   "source": [
    "n = 15\n",
    "start_state = 0\n",
    "curr_state = start_state\n",
    "print(state[curr_state], \"--->\", end=\" \")\n",
    "\n",
    "while n-1:\n",
    "    curr_state = np.random.choice([0, 1, 2], p=A[curr_state])\n",
    "    print(state[curr_state], \"--->\", end=\" \")\n",
    "    n-=1\n",
    "print(\"stop\")"
   ],
   "cell_type": "code",
   "metadata": {},
   "execution_count": 4,
   "outputs": [
    {
     "output_type": "stream",
     "name": "stdout",
     "text": [
      "Burger ---> Hotdog ---> Burger ---> Pizza ---> Hotdog ---> Burger ---> Pizza ---> Burger ---> Hotdog ---> Hotdog ---> Hotdog ---> Hotdog ---> Hotdog ---> Hotdog ---> Burger ---> stop\n"
     ]
    }
   ]
  },
  {
   "source": [
    "<h1 style=\"color:gold\">Approach 1 : Monte Carlo</h1>"
   ],
   "cell_type": "markdown",
   "metadata": {}
  },
  {
   "cell_type": "code",
   "execution_count": 5,
   "metadata": {},
   "outputs": [
    {
     "output_type": "stream",
     "name": "stdout",
     "text": [
      "π =  [0.351828 0.211508 0.436665]\n"
     ]
    }
   ],
   "source": [
    "steps = 10**6\n",
    "start_state = 0\n",
    "curr_state = start_state\n",
    "pi = np.array([0, 0, 0])\n",
    "pi[start_state] = 1\n",
    "\n",
    "i = 0\n",
    "while i<steps:\n",
    "    curr_state = np.random.choice([0,1,2], p=A[curr_state])\n",
    "    pi[curr_state]+=1\n",
    "    i +=1\n",
    "\n",
    "print(\"π = \", pi/steps)"
   ]
  },
  {
   "source": [
    "<h1 style=\"color:gold\">Approach 2 : Repeated Matrix Multiplication</h1>"
   ],
   "cell_type": "markdown",
   "metadata": {}
  },
  {
   "cell_type": "code",
   "execution_count": 6,
   "metadata": {},
   "outputs": [
    {
     "output_type": "stream",
     "name": "stdout",
     "text": [
      "A^n = \n [[0.35211268 0.21126761 0.43661972]\n [0.35211268 0.21126761 0.43661972]\n [0.35211268 0.21126761 0.43661972]] \n\nπ =  [0.35211268 0.21126761 0.43661972]\n"
     ]
    }
   ],
   "source": [
    "steps = 10**3\n",
    "A_n = A\n",
    "\n",
    "i=0\n",
    "while i<steps:\n",
    "    A_n =  np.matmul(A_n, A)\n",
    "    i+=1\n",
    "\n",
    "print(\"A^n = \\n\", A_n, \"\\n\")\n",
    "print(\"π = \", A_n[0])"
   ]
  },
  {
   "source": [
    "<h1 style=\"color:gold\">Approach 3 : Finding Left Eigen Vectors</h1>"
   ],
   "cell_type": "markdown",
   "metadata": {}
  },
  {
   "cell_type": "code",
   "execution_count": 7,
   "metadata": {},
   "outputs": [
    {
     "output_type": "stream",
     "name": "stdout",
     "text": [
      "left eigen vectors = \n",
      " [[-0.58746336+0.j          0.16984156+0.35355339j  0.16984156-0.35355339j]\n",
      " [-0.35247801+0.j         -0.67936622+0.j         -0.67936622-0.j        ]\n",
      " [-0.72845456+0.j          0.50952467-0.35355339j  0.50952467+0.35355339j]] \n",
      "\n",
      "eigen values = \n",
      " [ 1.  +0.j        -0.15+0.3122499j -0.15-0.3122499j]\n"
     ]
    }
   ],
   "source": [
    "import scipy.linalg\n",
    "values, left = scipy.linalg.eig(A, right = False, left = True)\n",
    "\n",
    "print(\"left eigen vectors = \\n\", left, \"\\n\")\n",
    "print(\"eigen values = \\n\", values)"
   ]
  },
  {
   "cell_type": "code",
   "execution_count": 8,
   "metadata": {},
   "outputs": [
    {
     "output_type": "execute_result",
     "data": {
      "text/plain": [
       "[0.3521126760563379, 0.21126760563380304, 0.4366197183098591]"
      ]
     },
     "metadata": {},
     "execution_count": 8
    }
   ],
   "source": [
    "pi = left[:,0]\n",
    "pi_normalized = [(x/np.sum(pi)).real for x in pi]\n",
    "pi_normalized"
   ]
  },
  {
   "source": [
    "<h1 style=\"color:gold\">P(Pizza --> Hotdog --> Hotdog --> Burger) = ?</h1>\n",
    "<br>\n",
    "\n",
    "## => P(X_0 = Pizza, X_1 = Hotdog, X_2 = Hotdog, X_3 = Burger)\n",
    "## => P(X_0 = Pizza)  P(X_1 = Hotdog | X_0 = Pizza)  P(X_2 = Hotdog | X_1 = Hotdog)  P(X_3 = Burger | X_2 = Hotdog)"
   ],
   "cell_type": "markdown",
   "metadata": {}
  },
  {
   "cell_type": "code",
   "execution_count": 9,
   "metadata": {},
   "outputs": [
    {
     "output_type": "stream",
     "name": "stdout",
     "text": [
      "0.03697183098591553\n"
     ]
    }
   ],
   "source": [
    "def find_prob(seq, A, pi):\n",
    "    start_state = seq[0]\n",
    "    prob = pi[start_state]\n",
    "    prev_state, curr_state = start_state, start_state\n",
    "    for i in range(1, len(seq)):\n",
    "        curr_state = seq[i]\n",
    "        prob *= A[prev_state][curr_state]\n",
    "        prev_state = curr_state\n",
    "    return prob\n",
    "\n",
    "print(find_prob([1, 2, 2, 0], A, pi_normalized))"
   ]
  }
 ]
}